{
 "cells": [
  {
   "cell_type": "code",
   "execution_count": 1,
   "metadata": {},
   "outputs": [],
   "source": [
    "%load_ext autoreload\n",
    "%autoreload 2\n",
    "import os\n"
   ]
  },
  {
   "cell_type": "markdown",
   "metadata": {},
   "source": [
    "## Activate fmriprep\n",
    "\n",
    "Firstly, we need to activate fmriprep. This will add the relevant files to our path. This only needs doing once (you dont have to do it again next time you login).\n",
    "\n"
   ]
  },
  {
   "cell_type": "markdown",
   "metadata": {},
   "source": [
    "## Define an fmriprep handler.\n",
    "\n",
    "Here I define an fmriprephandler. The main arguments are the path to the BIDS directory on which to do the fmriprepping, the output directory and the work directory for intermediate files. slurmout_path will define where the files that update on progress and errors will be stored.  \n",
    "\n",
    "In this case, I also define a subject on whom to do the fmriprepping. If this argument is not included it defaults to doing all subjects (not reccommended)."
   ]
  },
  {
   "cell_type": "code",
   "execution_count": 8,
   "metadata": {},
   "outputs": [],
   "source": [
    "from mrsbl.mrs import MrsHandler as MRSH\n",
    "k= MRSH(sub='001',ses='001',VOI ='OCC',slurmout_path='/home/users/yg916972/Software/mrs_bl/data')"
   ]
  },
  {
   "cell_type": "markdown",
   "metadata": {},
   "source": [
    "I now make the SLURM job for the subject using the make_slurm method."
   ]
  },
  {
   "cell_type": "code",
   "execution_count": 9,
   "metadata": {},
   "outputs": [],
   "source": [
    "k.make_slurm()"
   ]
  },
  {
   "cell_type": "markdown",
   "metadata": {},
   "source": [
    "Now we have an fmriprep template script created. "
   ]
  },
  {
   "cell_type": "code",
   "execution_count": 10,
   "metadata": {},
   "outputs": [
    {
     "name": "stdout",
     "output_type": "stream",
     "text": [
      "#!/bin/sh\n",
      "\n",
      "#SBATCH --cpus-per-task       1\n",
      "#SBATCH --error               /home/users/yg916972/Software/mrs_bl/data/MRS_001_001_OCC.err\n",
      "#SBATCH --mail-type           ALL\n",
      "#SBATCH --mem-per-cpu         1G\n",
      "#SBATCH --nodes               1-1\n",
      "#SBATCH --output              /home/users/yg916972/Software/mrs_bl/data/MRS_001_001_OCC.out\n",
      "\n",
      "module load matlab/R2023a\n",
      "\n"
     ]
    }
   ],
   "source": [
    "print(k.slurm)"
   ]
  },
  {
   "cell_type": "markdown",
   "metadata": {},
   "source": [
    "Upon being submitted, the following command will be submitted to the job queue using sbatch"
   ]
  },
  {
   "cell_type": "code",
   "execution_count": 11,
   "metadata": {},
   "outputs": [
    {
     "name": "stdout",
     "output_type": "stream",
     "text": [
      "/software/applications/MATLAB/R2023a/bin/matlab -batch \"sub='001'; ses='001'; VOI=['OCC']; run('/home/users/yg916972/Software/mrs_bl/mrsbl/skeleton.m')\"\n"
     ]
    }
   ],
   "source": [
    "print(k.cmd)"
   ]
  },
  {
   "cell_type": "code",
   "execution_count": 12,
   "metadata": {},
   "outputs": [
    {
     "name": "stdout",
     "output_type": "stream",
     "text": [
      "Submitted batch job 73623\n",
      "\n",
      "Job with MRS_001_001_OCC submitted! \n",
      "\n",
      "              Progress updated in /home/users/yg916972/Software/mrs_bl/data/MRS_001_001_OCC.out\n",
      "\n",
      "              Errors will be reported at /home/users/yg916972/Software/mrs_bl/data/MRS_001_001_OCC.err\n",
      "\n"
     ]
    }
   ],
   "source": [
    "k.submit_slurm()"
   ]
  },
  {
   "cell_type": "code",
   "execution_count": 13,
   "metadata": {},
   "outputs": [],
   "source": [
    "from mrsbl.mrs import MultipleMrsHandler as MMRSH\n",
    "k= MMRSH(subjects=['01','02'],sessions=['01','02'],VOIs=['OCC','MC'],slurmout_path='/home/users/yg916972/Software/mrs_bl/data')"
   ]
  },
  {
   "cell_type": "code",
   "execution_count": 14,
   "metadata": {},
   "outputs": [],
   "source": [
    "k.make_mrs_handlers()"
   ]
  },
  {
   "cell_type": "code",
   "execution_count": 15,
   "metadata": {},
   "outputs": [],
   "source": [
    "k.make_slurms()"
   ]
  },
  {
   "cell_type": "code",
   "execution_count": 16,
   "metadata": {},
   "outputs": [
    {
     "name": "stdout",
     "output_type": "stream",
     "text": [
      "/software/applications/MATLAB/R2023a/bin/matlab -batch \"sub='01'; ses='01'; VOI=['OCC']; run('/home/users/yg916972/Software/mrs_bl/mrsbl/skeleton.m')\"\n"
     ]
    }
   ],
   "source": [
    "print(k.handlers[0].cmd)"
   ]
  },
  {
   "cell_type": "code",
   "execution_count": 17,
   "metadata": {},
   "outputs": [
    {
     "name": "stdout",
     "output_type": "stream",
     "text": [
      "/software/applications/MATLAB/R2023a/bin/matlab -batch \"sub='02'; ses='02'; VOI=['MC']; run('/home/users/yg916972/Software/mrs_bl/mrsbl/skeleton.m')\"\n"
     ]
    }
   ],
   "source": [
    "print(k.handlers[-1].cmd)"
   ]
  },
  {
   "cell_type": "code",
   "execution_count": 18,
   "metadata": {},
   "outputs": [
    {
     "name": "stdout",
     "output_type": "stream",
     "text": [
      "Submitted batch job 73624\n",
      "\n",
      "Job with MRS_01_01_OCC submitted! \n",
      "\n",
      "              Progress updated in /home/users/yg916972/Software/mrs_bl/data/MRS_01_01_OCC.out\n",
      "\n",
      "              Errors will be reported at /home/users/yg916972/Software/mrs_bl/data/MRS_01_01_OCC.err\n",
      "\n",
      "Submitted batch job 73625\n",
      "\n",
      "Job with MRS_01_01_MC submitted! \n",
      "\n",
      "              Progress updated in /home/users/yg916972/Software/mrs_bl/data/MRS_01_01_MC.out\n",
      "\n",
      "              Errors will be reported at /home/users/yg916972/Software/mrs_bl/data/MRS_01_01_MC.err\n",
      "\n",
      "Submitted batch job 73626\n",
      "\n",
      "Job with MRS_01_02_OCC submitted! \n",
      "\n",
      "              Progress updated in /home/users/yg916972/Software/mrs_bl/data/MRS_01_02_OCC.out\n",
      "\n",
      "              Errors will be reported at /home/users/yg916972/Software/mrs_bl/data/MRS_01_02_OCC.err\n",
      "\n",
      "Submitted batch job 73627\n",
      "\n",
      "Job with MRS_01_02_MC submitted! \n",
      "\n",
      "              Progress updated in /home/users/yg916972/Software/mrs_bl/data/MRS_01_02_MC.out\n",
      "\n",
      "              Errors will be reported at /home/users/yg916972/Software/mrs_bl/data/MRS_01_02_MC.err\n",
      "\n",
      "Submitted batch job 73628\n",
      "\n",
      "Job with MRS_02_01_OCC submitted! \n",
      "\n",
      "              Progress updated in /home/users/yg916972/Software/mrs_bl/data/MRS_02_01_OCC.out\n",
      "\n",
      "              Errors will be reported at /home/users/yg916972/Software/mrs_bl/data/MRS_02_01_OCC.err\n",
      "\n",
      "Submitted batch job 73629\n",
      "\n",
      "Job with MRS_02_01_MC submitted! \n",
      "\n",
      "              Progress updated in /home/users/yg916972/Software/mrs_bl/data/MRS_02_01_MC.out\n",
      "\n",
      "              Errors will be reported at /home/users/yg916972/Software/mrs_bl/data/MRS_02_01_MC.err\n",
      "\n",
      "Submitted batch job 73630\n",
      "\n",
      "Job with MRS_02_02_OCC submitted! \n",
      "\n",
      "              Progress updated in /home/users/yg916972/Software/mrs_bl/data/MRS_02_02_OCC.out\n",
      "\n",
      "              Errors will be reported at /home/users/yg916972/Software/mrs_bl/data/MRS_02_02_OCC.err\n",
      "\n",
      "Submitted batch job 73631\n",
      "\n",
      "Job with MRS_02_02_MC submitted! \n",
      "\n",
      "              Progress updated in /home/users/yg916972/Software/mrs_bl/data/MRS_02_02_MC.out\n",
      "\n",
      "              Errors will be reported at /home/users/yg916972/Software/mrs_bl/data/MRS_02_02_MC.err\n",
      "\n"
     ]
    }
   ],
   "source": [
    "k.submit_slurms()"
   ]
  }
 ],
 "metadata": {
  "kernelspec": {
   "display_name": "Python 3",
   "language": "python",
   "name": "python3"
  },
  "language_info": {
   "codemirror_mode": {
    "name": "ipython",
    "version": 3
   },
   "file_extension": ".py",
   "mimetype": "text/x-python",
   "name": "python",
   "nbconvert_exporter": "python",
   "pygments_lexer": "ipython3",
   "version": "3.10.14"
  }
 },
 "nbformat": 4,
 "nbformat_minor": 2
}
