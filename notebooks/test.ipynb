{
 "cells": [
  {
   "cell_type": "code",
   "execution_count": 11,
   "metadata": {},
   "outputs": [
    {
     "name": "stdout",
     "output_type": "stream",
     "text": [
      "The autoreload extension is already loaded. To reload it, use:\n",
      "  %reload_ext autoreload\n"
     ]
    }
   ],
   "source": [
    "%load_ext autoreload\n",
    "%autoreload 2\n",
    "import os"
   ]
  },
  {
   "cell_type": "markdown",
   "metadata": {},
   "source": [
    "## Define an mrs handler.\n",
    "\n",
    "Here I define an mrsrephandler. The main arguments are the subject, session and VOI as well as where you would like the slurm scripts saved."
   ]
  },
  {
   "cell_type": "code",
   "execution_count": 23,
   "metadata": {},
   "outputs": [],
   "source": [
    "from mrsbl.mrs import MrsHandler as MRSH\n",
    "k= MRSH(sub='sub-W1002',ses='ses-01',VOI ='MC',slurmout_path='/storage/research/cinn/2020/gbgaba/GBGABA_BIDS/slurm')"
   ]
  },
  {
   "cell_type": "code",
   "execution_count": 24,
   "metadata": {},
   "outputs": [],
   "source": [
    "k.make_script()"
   ]
  },
  {
   "cell_type": "markdown",
   "metadata": {},
   "source": [
    "I now make the SLURM job for the subject using the make_slurm method."
   ]
  },
  {
   "cell_type": "code",
   "execution_count": 25,
   "metadata": {},
   "outputs": [],
   "source": [
    "k.make_slurm()"
   ]
  },
  {
   "cell_type": "markdown",
   "metadata": {},
   "source": [
    "Now we have an fmriprep template script created. "
   ]
  },
  {
   "cell_type": "code",
   "execution_count": 26,
   "metadata": {},
   "outputs": [
    {
     "name": "stdout",
     "output_type": "stream",
     "text": [
      "#!/bin/sh\n",
      "\n",
      "#SBATCH --cpus-per-task       2\n",
      "#SBATCH --error               /storage/research/cinn/2020/gbgaba/GBGABA_BIDS/slurm/MRS_sub-W1002_ses-01_MC.err\n",
      "#SBATCH --mail-type           ALL\n",
      "#SBATCH --mem-per-cpu         4G\n",
      "#SBATCH --nodes               1-1\n",
      "#SBATCH --output              /storage/research/cinn/2020/gbgaba/GBGABA_BIDS/slurm/MRS_sub-W1002_ses-01_MC.out\n",
      "\n",
      "module load matlab/R2023a\n",
      "python /home/users/yg916972/Software/mrs_bl/mrsbl/populate_script.py --sub sub-W1002 --ses ses-01 --template /home/users/yg916972/Software/mrs_bl/mrsbl/quality_check_setup_MC.m\n",
      "\n"
     ]
    }
   ],
   "source": [
    "print(k.slurm)"
   ]
  },
  {
   "cell_type": "markdown",
   "metadata": {},
   "source": [
    "Upon being submitted, the following command will be submitted to the job queue using sbatch"
   ]
  },
  {
   "cell_type": "code",
   "execution_count": 27,
   "metadata": {},
   "outputs": [
    {
     "name": "stdout",
     "output_type": "stream",
     "text": [
      "/software/applications/MATLAB/R2023a/bin/matlab -batch \"sub='sub-W1002'; ses='ses-01'; VOI=['MC']; run('/home/users/yg916972/Software/mrs_bl/mrsbl/QualityCheck.m')\"\n"
     ]
    }
   ],
   "source": [
    "print(k.cmd)"
   ]
  },
  {
   "cell_type": "markdown",
   "metadata": {},
   "source": [
    "We can submit as follows."
   ]
  },
  {
   "cell_type": "code",
   "execution_count": 29,
   "metadata": {},
   "outputs": [
    {
     "name": "stdout",
     "output_type": "stream",
     "text": [
      "Submitted batch job 74278\n",
      "\n",
      "Job with MRS_sub-W1002_ses-01_MC submitted! \n",
      "\n",
      "              Progress updated in /storage/research/cinn/2020/gbgaba/GBGABA_BIDS/slurm/MRS_sub-W1002_ses-01_MC.out\n",
      "\n",
      "              Errors will be reported at /storage/research/cinn/2020/gbgaba/GBGABA_BIDS/slurm/MRS_sub-W1002_ses-01_MC.err\n",
      "\n"
     ]
    }
   ],
   "source": [
    "k.submit_slurm()"
   ]
  },
  {
   "cell_type": "markdown",
   "metadata": {},
   "source": [
    "We can then do for multiple subject session and voi combinations as follows. This takes a dataframe of subject and session combinations as input and creates unique jobs for each."
   ]
  },
  {
   "cell_type": "code",
   "execution_count": 2,
   "metadata": {},
   "outputs": [],
   "source": [
    "import pandas as pd\n",
    "from mrsbl.utils import get_job_csv\n",
    "combs=pd.read_csv(get_job_csv())"
   ]
  },
  {
   "cell_type": "code",
   "execution_count": 4,
   "metadata": {},
   "outputs": [],
   "source": [
    "combs2=combs.head(10)"
   ]
  },
  {
   "cell_type": "code",
   "execution_count": 5,
   "metadata": {},
   "outputs": [],
   "source": [
    "from mrsbl.mrs import MultipleMrsHandlerFromFrame as MMHF\n",
    "examp=MMHF(combs2,slurmout_path='/storage/research/cinn/2020/gbgaba/GBGABA_BIDS/slurm')"
   ]
  },
  {
   "cell_type": "code",
   "execution_count": 6,
   "metadata": {},
   "outputs": [],
   "source": [
    "examp.make_mrs_handlers()"
   ]
  },
  {
   "cell_type": "code",
   "execution_count": 7,
   "metadata": {},
   "outputs": [],
   "source": [
    "examp.make_slurms()"
   ]
  },
  {
   "cell_type": "code",
   "execution_count": 8,
   "metadata": {},
   "outputs": [
    {
     "name": "stdout",
     "output_type": "stream",
     "text": [
      "#!/bin/sh\n",
      "\n",
      "#SBATCH --cpus-per-task       2\n",
      "#SBATCH --error               /storage/research/cinn/2020/gbgaba/GBGABA_BIDS/slurm/MRS_sub-W1001_ses-01_MC.err\n",
      "#SBATCH --mail-type           ALL\n",
      "#SBATCH --mem-per-cpu         4G\n",
      "#SBATCH --nodes               1-1\n",
      "#SBATCH --output              /storage/research/cinn/2020/gbgaba/GBGABA_BIDS/slurm/MRS_sub-W1001_ses-01_MC.out\n",
      "\n",
      "module load matlab/R2023a\n",
      "python /home/users/yg916972/Software/mrs_bl/mrsbl/populate_script.py --sub sub-W1001 --ses ses-01 --template /home/users/yg916972/Software/mrs_bl/mrsbl/quality_check_setup_MC.m\n",
      "\n"
     ]
    }
   ],
   "source": [
    "print(examp.handlers[0].slurm)"
   ]
  },
  {
   "cell_type": "code",
   "execution_count": 9,
   "metadata": {},
   "outputs": [
    {
     "name": "stdout",
     "output_type": "stream",
     "text": [
      "/software/applications/MATLAB/R2023a/bin/matlab -batch \"sub='sub-W1001'; ses='ses-01'; VOI=['MC']; run('/home/users/yg916972/Software/mrs_bl/mrsbl/QualityCheck.m')\"\n"
     ]
    }
   ],
   "source": [
    "print(examp.handlers[0].cmd)"
   ]
  },
  {
   "cell_type": "code",
   "execution_count": 15,
   "metadata": {},
   "outputs": [
    {
     "name": "stdout",
     "output_type": "stream",
     "text": [
      "#!/bin/sh\n",
      "\n",
      "#SBATCH --cpus-per-task       2\n",
      "#SBATCH --error               /home/users/yg916972/Software/mrs_bl/data/MRS_sub-W2BA149_ses-04_OCC.err\n",
      "#SBATCH --mail-type           ALL\n",
      "#SBATCH --mem-per-cpu         4G\n",
      "#SBATCH --nodes               1-1\n",
      "#SBATCH --output              /home/users/yg916972/Software/mrs_bl/data/MRS_sub-W2BA149_ses-04_OCC.out\n",
      "\n",
      "module load matlab/R2023a\n",
      "python /home/users/yg916972/Software/mrs_bl/mrsbl/populate_script.py --sub sub-W2BA149 --ses ses-04 --template /home/users/yg916972/Software/mrs_bl/mrsbl/quality_check_setup_OCC.m\n",
      "\n"
     ]
    }
   ],
   "source": [
    "print(examp.handlers[-1].slurm)"
   ]
  },
  {
   "cell_type": "code",
   "execution_count": 16,
   "metadata": {},
   "outputs": [
    {
     "name": "stdout",
     "output_type": "stream",
     "text": [
      "/software/applications/MATLAB/R2023a/bin/matlab -batch \"sub='sub-W2BA149'; ses='ses-04'; VOI=['OCC']; run('/home/users/yg916972/Software/mrs_bl/mrsbl/QualityCheck.m')\"\n"
     ]
    }
   ],
   "source": [
    "print(examp.handlers[-1].cmd)"
   ]
  },
  {
   "cell_type": "code",
   "execution_count": 10,
   "metadata": {},
   "outputs": [
    {
     "name": "stdout",
     "output_type": "stream",
     "text": [
      "Submitted batch job 74262\n",
      "\n",
      "Job with MRS_sub-W1001_ses-01_MC submitted! \n",
      "\n",
      "              Progress updated in /storage/research/cinn/2020/gbgaba/GBGABA_BIDS/slurm/MRS_sub-W1001_ses-01_MC.out\n",
      "\n",
      "              Errors will be reported at /storage/research/cinn/2020/gbgaba/GBGABA_BIDS/slurm/MRS_sub-W1001_ses-01_MC.err\n",
      "\n",
      "Submitted batch job 74263\n",
      "\n",
      "Job with MRS_sub-W1002_ses-01_MC submitted! \n",
      "\n",
      "              Progress updated in /storage/research/cinn/2020/gbgaba/GBGABA_BIDS/slurm/MRS_sub-W1002_ses-01_MC.out\n",
      "\n",
      "              Errors will be reported at /storage/research/cinn/2020/gbgaba/GBGABA_BIDS/slurm/MRS_sub-W1002_ses-01_MC.err\n",
      "\n",
      "Submitted batch job 74264\n",
      "\n",
      "Job with MRS_sub-W1003_ses-01_MC submitted! \n",
      "\n",
      "              Progress updated in /storage/research/cinn/2020/gbgaba/GBGABA_BIDS/slurm/MRS_sub-W1003_ses-01_MC.out\n",
      "\n",
      "              Errors will be reported at /storage/research/cinn/2020/gbgaba/GBGABA_BIDS/slurm/MRS_sub-W1003_ses-01_MC.err\n",
      "\n",
      "Submitted batch job 74265\n",
      "\n",
      "Job with MRS_sub-W1004_ses-01_MC submitted! \n",
      "\n",
      "              Progress updated in /storage/research/cinn/2020/gbgaba/GBGABA_BIDS/slurm/MRS_sub-W1004_ses-01_MC.out\n",
      "\n",
      "              Errors will be reported at /storage/research/cinn/2020/gbgaba/GBGABA_BIDS/slurm/MRS_sub-W1004_ses-01_MC.err\n",
      "\n",
      "Submitted batch job 74266\n",
      "\n",
      "Job with MRS_sub-W1005_ses-01_MC submitted! \n",
      "\n",
      "              Progress updated in /storage/research/cinn/2020/gbgaba/GBGABA_BIDS/slurm/MRS_sub-W1005_ses-01_MC.out\n",
      "\n",
      "              Errors will be reported at /storage/research/cinn/2020/gbgaba/GBGABA_BIDS/slurm/MRS_sub-W1005_ses-01_MC.err\n",
      "\n",
      "Submitted batch job 74267\n",
      "\n",
      "Job with MRS_sub-W1006_ses-01_MC submitted! \n",
      "\n",
      "              Progress updated in /storage/research/cinn/2020/gbgaba/GBGABA_BIDS/slurm/MRS_sub-W1006_ses-01_MC.out\n",
      "\n",
      "              Errors will be reported at /storage/research/cinn/2020/gbgaba/GBGABA_BIDS/slurm/MRS_sub-W1006_ses-01_MC.err\n",
      "\n",
      "Submitted batch job 74268\n",
      "\n",
      "Job with MRS_sub-W1007_ses-01_MC submitted! \n",
      "\n",
      "              Progress updated in /storage/research/cinn/2020/gbgaba/GBGABA_BIDS/slurm/MRS_sub-W1007_ses-01_MC.out\n",
      "\n",
      "              Errors will be reported at /storage/research/cinn/2020/gbgaba/GBGABA_BIDS/slurm/MRS_sub-W1007_ses-01_MC.err\n",
      "\n",
      "Submitted batch job 74269\n",
      "\n",
      "Job with MRS_sub-W1008_ses-01_MC submitted! \n",
      "\n",
      "              Progress updated in /storage/research/cinn/2020/gbgaba/GBGABA_BIDS/slurm/MRS_sub-W1008_ses-01_MC.out\n",
      "\n",
      "              Errors will be reported at /storage/research/cinn/2020/gbgaba/GBGABA_BIDS/slurm/MRS_sub-W1008_ses-01_MC.err\n",
      "\n",
      "Submitted batch job 74270\n",
      "\n",
      "Job with MRS_sub-W1010_ses-01_MC submitted! \n",
      "\n",
      "              Progress updated in /storage/research/cinn/2020/gbgaba/GBGABA_BIDS/slurm/MRS_sub-W1010_ses-01_MC.out\n",
      "\n",
      "              Errors will be reported at /storage/research/cinn/2020/gbgaba/GBGABA_BIDS/slurm/MRS_sub-W1010_ses-01_MC.err\n",
      "\n",
      "Submitted batch job 74271\n",
      "\n",
      "Job with MRS_sub-W1012_ses-01_MC submitted! \n",
      "\n",
      "              Progress updated in /storage/research/cinn/2020/gbgaba/GBGABA_BIDS/slurm/MRS_sub-W1012_ses-01_MC.out\n",
      "\n",
      "              Errors will be reported at /storage/research/cinn/2020/gbgaba/GBGABA_BIDS/slurm/MRS_sub-W1012_ses-01_MC.err\n",
      "\n"
     ]
    }
   ],
   "source": [
    "examp.submit_slurms()"
   ]
  }
 ],
 "metadata": {
  "kernelspec": {
   "display_name": "CINN_fmriprep",
   "language": "python",
   "name": "python3"
  },
  "language_info": {
   "codemirror_mode": {
    "name": "ipython",
    "version": 3
   },
   "file_extension": ".py",
   "mimetype": "text/x-python",
   "name": "python",
   "nbconvert_exporter": "python",
   "pygments_lexer": "ipython3",
   "version": "3.10.14"
  }
 },
 "nbformat": 4,
 "nbformat_minor": 2
}
